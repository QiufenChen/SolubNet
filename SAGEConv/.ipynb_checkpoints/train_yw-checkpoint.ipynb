{
 "cells": [
  {
   "cell_type": "code",
   "execution_count": 1,
   "metadata": {},
   "outputs": [
    {
     "name": "stderr",
     "output_type": "stream",
     "text": [
      "Using backend: pytorch\n"
     ]
    }
   ],
   "source": [
    "import random\n",
    "import pandas as pd\n",
    "import torch as th\n",
    "from mtMolDes import model, Utility\n",
    "from mtMolDes.Evaluation import MAE, MSE, RMSE, Spearman\n",
    "from sklearn.metrics import r2_score\n",
    "import numpy as np"
   ]
  },
  {
   "cell_type": "code",
   "execution_count": 3,
   "metadata": {},
   "outputs": [],
   "source": [
    "num_features = 4\n",
    "num_labels = 1\n",
    "feature_str = \"h\"\n",
    "\n",
    "batch_size = 32\n",
    "learning_rate = 1.e-3\n",
    "max_epochs = 500\n",
    "output_freq = 1"
   ]
  },
  {
   "cell_type": "code",
   "execution_count": null,
   "metadata": {},
   "outputs": [
    {
     "name": "stdout",
     "output_type": "stream",
     "text": [
      "Load GaoDataSet from dataset/AqSolDB_preprocess.csv ... "
     ]
    },
    {
     "name": "stderr",
     "output_type": "stream",
     "text": [
      "[15:24:58] WARNING: not removing hydrogen atom without neighbors\n",
      "[15:25:00] WARNING: not removing hydrogen atom without neighbors\n",
      "[15:25:00] WARNING: not removing hydrogen atom without neighbors\n",
      "[15:25:03] WARNING: not removing hydrogen atom without neighbors\n",
      "[15:25:04] WARNING: not removing hydrogen atom without neighbors\n",
      "[15:25:07] WARNING: not removing hydrogen atom without neighbors\n",
      "[15:25:08] WARNING: not removing hydrogen atom without neighbors\n",
      "[15:25:08] WARNING: not removing hydrogen atom without neighbors\n",
      "[15:25:09] WARNING: not removing hydrogen atom without neighbors\n",
      "[15:25:09] WARNING: not removing hydrogen atom without neighbors\n",
      "[15:25:11] WARNING: not removing hydrogen atom without neighbors\n",
      "[15:25:25] WARNING: not removing hydrogen atom without neighbors\n",
      "[15:25:25] WARNING: not removing hydrogen atom without neighbors\n",
      "[15:25:25] WARNING: not removing hydrogen atom without neighbors\n",
      "[15:25:25] WARNING: not removing hydrogen atom without neighbors\n",
      "[15:25:29] WARNING: not removing hydrogen atom without neighbors\n",
      "[15:25:30] WARNING: not removing hydrogen atom without neighbors\n",
      "[15:25:31] WARNING: not removing hydrogen atom without neighbors\n",
      "[15:25:32] WARNING: not removing hydrogen atom without neighbors\n",
      "[15:25:33] WARNING: not removing hydrogen atom without neighbors\n",
      "[15:25:36] WARNING: not removing hydrogen atom without neighbors\n",
      "[15:25:36] WARNING: not removing hydrogen atom without neighbors\n",
      "[15:25:38] WARNING: not removing hydrogen atom without neighbors\n",
      "[15:25:38] WARNING: not removing hydrogen atom without neighbors\n",
      "[15:25:39] WARNING: not removing hydrogen atom without neighbors\n",
      "[15:25:40] WARNING: not removing hydrogen atom without neighbors\n",
      "[15:25:40] WARNING: not removing hydrogen atom without neighbors\n",
      "[15:25:40] WARNING: not removing hydrogen atom without neighbors\n",
      "[15:25:40] WARNING: not removing hydrogen atom without neighbors\n",
      "[15:25:40] WARNING: not removing hydrogen atom without neighbors\n",
      "[15:25:41] WARNING: not removing hydrogen atom without neighbors\n",
      "[15:25:42] WARNING: not removing hydrogen atom without neighbors\n",
      "[15:25:44] WARNING: not removing hydrogen atom without neighbors\n",
      "[15:25:44] WARNING: not removing hydrogen atom without neighbors\n",
      "[15:25:44] WARNING: not removing hydrogen atom without neighbors\n",
      "[15:25:47] WARNING: not removing hydrogen atom without neighbors\n",
      "[15:25:47] WARNING: not removing hydrogen atom without neighbors\n",
      "[15:25:49] WARNING: not removing hydrogen atom without neighbors\n",
      "[15:25:49] WARNING: not removing hydrogen atom without neighbors\n",
      "[15:25:53] WARNING: not removing hydrogen atom without neighbors\n",
      "[15:25:54] WARNING: not removing hydrogen atom without neighbors\n",
      "[15:25:56] WARNING: not removing hydrogen atom without neighbors\n",
      "[15:25:58] WARNING: not removing hydrogen atom without neighbors\n",
      "[15:25:59] WARNING: not removing hydrogen atom without neighbors\n",
      "[15:25:59] WARNING: not removing hydrogen atom without neighbors\n",
      "[15:26:00] WARNING: not removing hydrogen atom without neighbors\n",
      "[15:26:11] WARNING: not removing hydrogen atom without neighbors\n",
      "[15:26:13] WARNING: not removing hydrogen atom without neighbors\n",
      "[15:26:17] WARNING: not removing hydrogen atom without neighbors\n",
      "[15:26:18] WARNING: not removing hydrogen atom without neighbors\n",
      "[15:26:18] WARNING: not removing hydrogen atom without neighbors\n",
      "[15:26:20] WARNING: not removing hydrogen atom without neighbors\n",
      "[15:26:34] WARNING: not removing hydrogen atom without neighbors\n",
      "[15:26:38] WARNING: not removing hydrogen atom without neighbors\n"
     ]
    }
   ],
   "source": [
    "device = th.device(\"cuda:0\" if th.cuda.is_available() else \"cpu\")\n",
    "\n",
    "data_file = \"dataset/AqSolDB_preprocess.csv\"\n",
    "all_data = Utility.LoadGaoData(data_file, num_features, feature_str, device)\n",
    "print(\"# of all graphs/labels:      %d\" % (len(all_data)))"
   ]
  },
  {
   "cell_type": "code",
   "execution_count": null,
   "metadata": {},
   "outputs": [],
   "source": [
    "batch_size = 32\n",
    "learning_rate = 1.e-3\n",
    "max_epochs = 500\n",
    "output_freq = 1"
   ]
  },
  {
   "cell_type": "code",
   "execution_count": null,
   "metadata": {},
   "outputs": [],
   "source": [
    "solubNet = model.GCNNet(num_features, num_labels, feature_str)\n",
    "Utility.Train(solubNet, all_data, learning_rate, batch_size, max_epochs, output_freq, device)"
   ]
  }
 ],
 "metadata": {
  "kernelspec": {
   "display_name": "Python 3",
   "language": "python",
   "name": "python3"
  },
  "language_info": {
   "codemirror_mode": {
    "name": "ipython",
    "version": 3
   },
   "file_extension": ".py",
   "mimetype": "text/x-python",
   "name": "python",
   "nbconvert_exporter": "python",
   "pygments_lexer": "ipython3",
   "version": "3.7.0"
  }
 },
 "nbformat": 4,
 "nbformat_minor": 2
}
