{
 "cells": [
  {
   "cell_type": "code",
   "execution_count": 1,
   "metadata": {},
   "outputs": [
    {
     "name": "stderr",
     "output_type": "stream",
     "text": [
      "Using backend: pytorch\n"
     ]
    }
   ],
   "source": [
    "import random\n",
    "import pandas as pd\n",
    "import torch as th\n",
    "from mtMolDes import model, Utility\n",
    "from mtMolDes.Evaluation import MAE, MSE, RMSE, Spearman\n",
    "from sklearn.metrics import r2_score\n",
    "import numpy as np"
   ]
  },
  {
   "cell_type": "code",
   "execution_count": 2,
   "metadata": {},
   "outputs": [],
   "source": [
    "num_features = 4\n",
    "num_labels = 1\n",
    "feature_str = \"h\"\n",
    "\n",
    "batch_size = 32\n",
    "learning_rate = 1.e-3\n",
    "max_epochs = 500\n",
    "output_freq = 1"
   ]
  },
  {
   "cell_type": "code",
   "execution_count": 3,
   "metadata": {},
   "outputs": [
    {
     "name": "stdout",
     "output_type": "stream",
     "text": [
      "Load GaoDataSet from dataset/AqSolDB_preprocess.csv ... "
     ]
    },
    {
     "name": "stderr",
     "output_type": "stream",
     "text": [
      "[15:40:58] WARNING: not removing hydrogen atom without neighbors\n",
      "[15:41:00] WARNING: not removing hydrogen atom without neighbors\n",
      "[15:41:00] WARNING: not removing hydrogen atom without neighbors\n",
      "[15:41:04] WARNING: not removing hydrogen atom without neighbors\n",
      "[15:41:05] WARNING: not removing hydrogen atom without neighbors\n",
      "[15:41:08] WARNING: not removing hydrogen atom without neighbors\n",
      "[15:41:09] WARNING: not removing hydrogen atom without neighbors\n",
      "[15:41:09] WARNING: not removing hydrogen atom without neighbors\n",
      "[15:41:10] WARNING: not removing hydrogen atom without neighbors\n",
      "[15:41:10] WARNING: not removing hydrogen atom without neighbors\n",
      "[15:41:12] WARNING: not removing hydrogen atom without neighbors\n",
      "[15:41:26] WARNING: not removing hydrogen atom without neighbors\n",
      "[15:41:26] WARNING: not removing hydrogen atom without neighbors\n",
      "[15:41:26] WARNING: not removing hydrogen atom without neighbors\n",
      "[15:41:26] WARNING: not removing hydrogen atom without neighbors\n",
      "[15:41:30] WARNING: not removing hydrogen atom without neighbors\n",
      "[15:41:31] WARNING: not removing hydrogen atom without neighbors\n",
      "[15:41:32] WARNING: not removing hydrogen atom without neighbors\n",
      "[15:41:33] WARNING: not removing hydrogen atom without neighbors\n",
      "[15:41:34] WARNING: not removing hydrogen atom without neighbors\n",
      "[15:41:37] WARNING: not removing hydrogen atom without neighbors\n",
      "[15:41:37] WARNING: not removing hydrogen atom without neighbors\n",
      "[15:41:39] WARNING: not removing hydrogen atom without neighbors\n",
      "[15:41:39] WARNING: not removing hydrogen atom without neighbors\n",
      "[15:41:40] WARNING: not removing hydrogen atom without neighbors\n",
      "[15:41:41] WARNING: not removing hydrogen atom without neighbors\n",
      "[15:41:41] WARNING: not removing hydrogen atom without neighbors\n",
      "[15:41:41] WARNING: not removing hydrogen atom without neighbors\n",
      "[15:41:41] WARNING: not removing hydrogen atom without neighbors\n",
      "[15:41:41] WARNING: not removing hydrogen atom without neighbors\n",
      "[15:41:43] WARNING: not removing hydrogen atom without neighbors\n",
      "[15:41:43] WARNING: not removing hydrogen atom without neighbors\n",
      "[15:41:45] WARNING: not removing hydrogen atom without neighbors\n",
      "[15:41:45] WARNING: not removing hydrogen atom without neighbors\n",
      "[15:41:45] WARNING: not removing hydrogen atom without neighbors\n",
      "[15:41:48] WARNING: not removing hydrogen atom without neighbors\n",
      "[15:41:48] WARNING: not removing hydrogen atom without neighbors\n",
      "[15:41:50] WARNING: not removing hydrogen atom without neighbors\n",
      "[15:41:51] WARNING: not removing hydrogen atom without neighbors\n",
      "[15:41:54] WARNING: not removing hydrogen atom without neighbors\n",
      "[15:41:55] WARNING: not removing hydrogen atom without neighbors\n",
      "[15:41:57] WARNING: not removing hydrogen atom without neighbors\n",
      "[15:41:59] WARNING: not removing hydrogen atom without neighbors\n",
      "[15:42:00] WARNING: not removing hydrogen atom without neighbors\n",
      "[15:42:00] WARNING: not removing hydrogen atom without neighbors\n",
      "[15:42:01] WARNING: not removing hydrogen atom without neighbors\n",
      "[15:42:12] WARNING: not removing hydrogen atom without neighbors\n",
      "[15:42:13] WARNING: not removing hydrogen atom without neighbors\n",
      "[15:42:18] WARNING: not removing hydrogen atom without neighbors\n",
      "[15:42:18] WARNING: not removing hydrogen atom without neighbors\n",
      "[15:42:18] WARNING: not removing hydrogen atom without neighbors\n",
      "[15:42:21] WARNING: not removing hydrogen atom without neighbors\n",
      "[15:42:34] WARNING: not removing hydrogen atom without neighbors\n",
      "[15:42:38] WARNING: not removing hydrogen atom without neighbors\n"
     ]
    },
    {
     "name": "stdout",
     "output_type": "stream",
     "text": [
      "done (8049 lines, 176.964 seconds) \n",
      "# of all graphs/labels:      8048\n"
     ]
    }
   ],
   "source": [
    "device = th.device(\"cuda:0\" if th.cuda.is_available() else \"cpu\")\n",
    "data_file = \"dataset/AqSolDB_preprocess.csv\"\n",
    "all_data = Utility.LoadGaoData(data_file, num_features, feature_str, device)\n",
    "print(\"# of all graphs/labels:      %d\" % (len(all_data)))"
   ]
  },
  {
   "cell_type": "code",
   "execution_count": null,
   "metadata": {},
   "outputs": [
    {
     "name": "stdout",
     "output_type": "stream",
     "text": [
      "# of training graphs/labels:      7243\n",
      "# of testing graphs/labels:      805\n",
      ">>> Training of the Model >>>\n",
      "Start at:  Thu Mar 16 15:43:49 2023\n",
      "PID:       12864\n",
      "# of training graphs/labels: 8048\n",
      "Learning rate:               1E-03\n",
      "Batch size:                  32\n",
      "Maximum epochs:              500\n",
      "Output frequency:            1\n",
      "Device:                      cuda:0\n",
      "--------------------------------------------------------------------------------------------------------------------------------------------------------------------------------------------------------\n",
      "     Epoch       TrainLoss       TrainRMSE         TrainR2        TestRMSE          TestR2\n",
      "--------------------------------------------------------------------------------------------------------------------------------------------------------------------------------------------------------\n",
      "         0           1.698           2.137           2.969          -1.250           0.541           1.390           1.949           0.048           0.710          75.745\n",
      "         1           1.190           1.614           2.313          -0.221           0.687           1.498           2.033          -0.044           0.741         150.171\n"
     ]
    }
   ],
   "source": [
    "from mtMolDes import model, Utility\n",
    "solubNet = model.GCNNet(num_features, num_labels, feature_str)\n",
    "Utility.Train(solubNet, all_data, learning_rate, batch_size, max_epochs, output_freq, device)"
   ]
  },
  {
   "cell_type": "code",
   "execution_count": null,
   "metadata": {},
   "outputs": [],
   "source": []
  }
 ],
 "metadata": {
  "kernelspec": {
   "display_name": "Python 3",
   "language": "python",
   "name": "python3"
  },
  "language_info": {
   "codemirror_mode": {
    "name": "ipython",
    "version": 3
   },
   "file_extension": ".py",
   "mimetype": "text/x-python",
   "name": "python",
   "nbconvert_exporter": "python",
   "pygments_lexer": "ipython3",
   "version": "3.7.0"
  }
 },
 "nbformat": 4,
 "nbformat_minor": 2
}
